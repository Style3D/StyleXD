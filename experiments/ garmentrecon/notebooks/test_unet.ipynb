{
 "cells": [
  {
   "cell_type": "markdown",
   "metadata": {},
   "source": [
    "# Test data loader"
   ]
  },
  {
   "cell_type": "code",
   "execution_count": null,
   "metadata": {},
   "outputs": [],
   "source": [
    "# make data splits\n",
    "\n",
    "import os\n",
    "import random\n",
    "from glob import glob\n",
    "import shutil\n",
    "\n",
    "data_splits = ['train', 'val', 'test']\n",
    "data_root = \"/home/lry/data/AIGP/demo_v2/Q2/imgs\"\n",
    "all_items = glob(os.path.join(data_root, '*.npz'))\n",
    "\n",
    "print(\"Total items: \", len(all_items))\n",
    "\n",
    "random.shuffle(all_items)\n",
    "num_val = 100\n",
    "num_test = 100\n",
    "num_train = len(all_items) - num_val - num_test\n",
    "\n",
    "print(num_train, num_val, num_test)\n",
    "\n",
    "for split in data_splits:\n",
    "    split_dir = os.path.join(data_root, split)\n",
    "    if not os.path.exists(split_dir):\n",
    "        os.makedirs(split_dir)\n",
    "    if split == 'train':\n",
    "        items = all_items[:num_train]\n",
    "    elif split == 'val':\n",
    "        items = all_items[num_train:num_train+num_val]\n",
    "    elif split == 'test':\n",
    "        items = all_items[num_train+num_val:]\n",
    "    print(split, len(items), items[0])\n",
    "    for item in items:\n",
    "        shutil.move(item, os.path.join(split_dir, os.path.basename(item)))"
   ]
  },
  {
   "cell_type": "code",
   "execution_count": null,
   "metadata": {},
   "outputs": [],
   "source": [
    "import os\n",
    "import random\n",
    "from glob import glob\n",
    "\n",
    "import numpy as np\n",
    "\n",
    "import torch\n",
    "import torch.nn.functional as F\n",
    "from torchvision import transforms\n",
    "from diffusers.models.embeddings import SinusoidalPositionalEmbedding\n",
    "\n",
    "from matplotlib import pyplot as plt\n",
    "from matplotlib.colors import to_rgba\n",
    "\n",
    "_CMAP = {\n",
    "    \"帽\": {\"alias\": \"hat\", \"color\": \"#F7815D\"},\n",
    "    \"领\": {\"alias\": \"collar\", \"color\": \"#F9D26D\"},\n",
    "    \"肩\": {\"alias\": \"shoulder\", \"color\": \"#F23434\"},\n",
    "    \"袖片\": {\"alias\": \"sleeve\", \"color\": \"#C4DBBE\"},\n",
    "    \"袖口\": {\"alias\": \"cuff\", \"color\": \"#F0EDA8\"},\n",
    "    \"衣身前中\": {\"alias\": \"body front\", \"color\": \"#8CA740\"},\n",
    "    \"衣身后中\": {\"alias\": \"body back\", \"color\": \"#4087A7\"},\n",
    "    \"衣身侧\": {\"alias\": \"body side\", \"color\": \"#DF7D7E\"},\n",
    "    \n",
    "    \"底摆\": {\"alias\": \"hem\", \"color\": \"#DACBBD\"},\n",
    "    \"腰头\": {\"alias\": \"belt\", \"color\": \"#DABDD1\"},\n",
    "    \"裙前中\": {\"alias\": \"skirt front\", \"color\": \"#46B974\"},\n",
    "    \"裙后中\": {\"alias\": \"skirt back\", \"color\": \"#6B68F5\"},\n",
    "    \"裙侧\": {\"alias\": \"skirt side\", \"color\": \"#D37F50\"},\n",
    "\n",
    "    \"橡筋\": {\"alias\":\"ruffles\", \"color\": \"#A8D4D2\"},\n",
    "    \"木耳边\": {\"alias\":\"ruffles\", \"color\": \"#A8D4D2\"},\n",
    "    \"袖笼拼条\": {\"alias\":\"ruffles\", \"color\": \"#A8D4D2\"},\n",
    "    \"荷叶边\": {\"alias\":\"ruffles\", \"color\": \"#A8D4D2\"},\n",
    "    \"绑带\": {\"alias\":\"ruffles\", \"color\": \"#A8D4D2\"}\n",
    "}\n",
    "\n",
    "_PANEL_CLS = [\n",
    "    '帽','领','肩','袖片','袖口','衣身前中','衣身后中','衣身侧','底摆','腰头','裙前中','裙后中','裙侧','橡筋','木耳边','袖笼拼条','荷叶边','绑带']\n",
    "\n",
    "_PANEL_COLORS = np.array(\n",
    "    [(0., 0., 0., 0.)] + [to_rgba(_CMAP[_PANEL_CLS[idx]]['color']) for idx in range(len(_PANEL_CLS))]\n",
    ")\n",
    "\n",
    "_RESO = 1024\n",
    "\n",
    "\n",
    "def _positional_encoding(input, num_freq, min_freq, max_freq, include_input=False):\n",
    "    \n",
    "    if not torch.is_tensor(input): input = torch.tensor(input)\n",
    "\n",
    "    scaled = 2 * torch.pi * input  # scale to [0, 2pi]\n",
    "    \n",
    "    freqs = 2 ** torch.linspace(min_freq, max_freq, num_freq, device=input.device)\n",
    "        \n",
    "    print(\"*** freqs: \", freqs.shape, scaled.shape)\n",
    "        \n",
    "    scaled = scaled[..., None] * freqs  # [..., \"input_dim\", \"num_scales\"]\n",
    "    scaled = scaled.view(*scaled.shape[:-2], -1)  # [..., \"input_dim\" * \"num_scales\"]\n",
    "        \n",
    "    pos_feat = torch.sin(torch.cat([scaled, scaled + torch.pi / 2.0], dim=-1))\n",
    "\n",
    "    if include_input: pos_feat = torch.cat([pos_feat, input], dim=-1)\n",
    "    \n",
    "    return pos_feat\n",
    "\n",
    "\n",
    "def _vis_tensor(geo_arr, seg_arr, uv_arr, tag=\"ORIGINAL\"):\n",
    "    \n",
    "    print(f'>>>>>>>>> {tag} <<<<<<<<<')\n",
    "    print('*** geo_img: ', geo_arr.shape, geo_arr.min(), geo_arr.max())\n",
    "    print('*** seg_img: ', seg_arr.shape, np.unique(seg_arr))\n",
    "    print('*** uv_img: ', uv_arr.shape, uv_arr.min(), uv_arr.max())\n",
    "    print('||||||||||||||||||||||||||||')\n",
    "    \n",
    "    if torch.is_tensor(geo_arr): geo_arr = geo_arr.numpy().transpose(1, 2, 0)\n",
    "    if torch.is_tensor(seg_arr): seg_arr = seg_arr.numpy()\n",
    "    if torch.is_tensor(uv_arr): uv_arr = uv_arr.numpy().transpose(1, 2, 0)\n",
    "\n",
    "    _, axs = plt.subplots(1, 3, figsize=(12, 4))\n",
    "    mask_arr = seg_arr > 0\n",
    "    geo_img = np.clip(np.rint((geo_arr + 1.0) * 0.5 * 255) * mask_arr[..., None], 0, 255).astype(np.uint8)\n",
    "    seg_img = np.clip(np.rint(_PANEL_COLORS[seg_arr, :] * 255), 0, 255).astype(np.uint8)\n",
    "    uv_img = np.clip(np.rint((uv_arr + 1.0) * 0.5 * 255) * mask_arr[..., None], 0, 255).astype(np.uint8)\n",
    "    \n",
    "    axs[0].axis('off')\n",
    "    axs[0].set_title('Geometry Image')\n",
    "    axs[0].imshow(geo_img)\n",
    "    \n",
    "    axs[1].axis('off')\n",
    "    axs[1].set_title('Semantic Image')\n",
    "    axs[1].imshow(seg_img)\n",
    "    \n",
    "    axs[2].axis('off')\n",
    "    axs[2].set_title('UV Image')\n",
    "    if uv_img.shape[-1] == 2: uv_img = np.concatenate([uv_img, np.zeros_like(uv_img[..., :1])], axis=2)\n",
    "    axs[2].imshow(uv_img)\n",
    "    \n",
    "    plt.show()\n",
    "    \n",
    "# data_root = \"E:\\\\lry\\\\data\\\\AIGP\\\\demo_v2\\\\Q2\\\\imgs_test_1\"\n",
    "data_root = \"/home/lry/data/AIGP/demo_v2/Q2/imgs\"\n",
    "data_item = random.choice(glob(os.path.join(data_root, '**', '*.npz')))\n",
    "print(data_item)\n",
    "\n",
    "data = np.load(data_item)\n",
    "geo_arr = data['geo']\n",
    "seg_arr = data['seg']\n",
    "uv_arr = data['uv']\n",
    "\n",
    "_vis_tensor(geo_arr, seg_arr, uv_arr, tag=\"ORIGINAL\")\n",
    "\n",
    "# ############ Test positional encoding ############\n",
    "# H, W = geo_arr.shape[0], geo_arr.shape[1]\n",
    "# coord_arr = np.stack(np.meshgrid(\n",
    "#     np.linspace(0., 1.0, W),\n",
    "#     np.linspace(0., 1.0, H)\n",
    "# ), axis=-1) * ((seg_arr[..., None] > 0).astype(np.float32))\n",
    "# # print('*** coord_arr: ', coord_arr.shape, coord_arr[0, 0, :], coord_arr[-1, 0, :], coord_arr[0, -1, :], coord_arr[-1, -1, :])\n",
    "\n",
    "# plt.imshow(np.concatenate([coord_arr, np.zeros_like(coord_arr[..., :1])], axis=2))\n",
    "# plt.show()\n",
    "\n",
    "# encoded_coord_arr = _positional_encoding(coord_arr, 4, 2, 8, include_input=False)\n",
    "# # print('*** encoded_coord_arr: ', encoded_coord_arr.shape, encoded_coord_arr.min(), encoded_coord_arr.max())\n",
    "\n",
    "# plt.imshow((encoded_coord_arr[..., 6:9] + 1.0) * 0.5)\n",
    "# plt.show()\n",
    "# ####################################################\n",
    "\n",
    "data_tensor = torch.from_numpy(\n",
    "    np.concatenate([geo_arr, seg_arr[..., None], uv_arr], axis=2).transpose(2, 0, 1)).to(torch.float32)\n",
    "\n",
    "data_transform = transforms.Compose(\n",
    "    [\n",
    "        transforms.RandomResizedCrop(\n",
    "            _RESO, interpolation=transforms.InterpolationMode.NEAREST_EXACT,\n",
    "            scale=(0.25, 1.0), ratio=(0.5, 2.0)\n",
    "        ),\n",
    "        transforms.RandomHorizontalFlip()\n",
    "    ]\n",
    ")\n",
    "\n",
    "transformed_tensor = data_transform(data_tensor)\n",
    "geo_arr = transformed_tensor[:3]\n",
    "seg_arr = transformed_tensor[3].long()\n",
    "uv_arr = transformed_tensor[4:]\n",
    "\n",
    "_vis_tensor(geo_arr, seg_arr, uv_arr, tag=\"TRANSFORMED\")"
   ]
  },
  {
   "cell_type": "markdown",
   "metadata": {},
   "source": [
    "# Test Inference"
   ]
  },
  {
   "cell_type": "code",
   "execution_count": 12,
   "metadata": {},
   "outputs": [
    {
     "name": "stdout",
     "output_type": "stream",
     "text": [
      "Load test split from /data/lry/StyleXD/imgs, 115 items.\n",
      "*** data transform:  Resize(size=[256, 256], interpolation=nearest-exact, max_size=None, antialias=True)\n"
     ]
    },
    {
     "name": "stderr",
     "output_type": "stream",
     "text": [
      "  0%|          | 0/115 [00:00<?, ?it/s]"
     ]
    },
    {
     "name": "stdout",
     "output_type": "stream",
     "text": [
      "0.0026174102 0.62751925\n"
     ]
    },
    {
     "name": "stderr",
     "output_type": "stream",
     "text": [
      "  1%|          | 1/115 [00:02<04:12,  2.22s/it]"
     ]
    },
    {
     "name": "stdout",
     "output_type": "stream",
     "text": [
      "0.002329227 0.4756424\n"
     ]
    },
    {
     "name": "stderr",
     "output_type": "stream",
     "text": [
      "  2%|▏         | 2/115 [00:04<04:29,  2.38s/it]"
     ]
    },
    {
     "name": "stdout",
     "output_type": "stream",
     "text": [
      "0.0035447523 0.8788963\n"
     ]
    },
    {
     "name": "stderr",
     "output_type": "stream",
     "text": [
      "  3%|▎         | 3/115 [00:06<04:21,  2.34s/it]"
     ]
    },
    {
     "name": "stdout",
     "output_type": "stream",
     "text": [
      "0.001992178 0.595043\n"
     ]
    },
    {
     "name": "stderr",
     "output_type": "stream",
     "text": [
      "  3%|▎         | 4/115 [00:09<04:18,  2.33s/it]"
     ]
    },
    {
     "name": "stdout",
     "output_type": "stream",
     "text": [
      "0.0005576473 0.78873956\n"
     ]
    },
    {
     "name": "stderr",
     "output_type": "stream",
     "text": [
      "  4%|▍         | 5/115 [00:11<04:20,  2.37s/it]"
     ]
    },
    {
     "name": "stdout",
     "output_type": "stream",
     "text": [
      "0.0013009142 0.9729988\n"
     ]
    },
    {
     "name": "stderr",
     "output_type": "stream",
     "text": [
      "  5%|▌         | 6/115 [00:14<04:34,  2.52s/it]"
     ]
    },
    {
     "name": "stdout",
     "output_type": "stream",
     "text": [
      "0.0004926913 0.6005821\n"
     ]
    },
    {
     "name": "stderr",
     "output_type": "stream",
     "text": [
      "  6%|▌         | 7/115 [00:17<04:38,  2.58s/it]"
     ]
    },
    {
     "name": "stdout",
     "output_type": "stream",
     "text": [
      "0.0058377865 0.9570801\n"
     ]
    },
    {
     "name": "stderr",
     "output_type": "stream",
     "text": [
      "  7%|▋         | 8/115 [00:19<04:31,  2.53s/it]"
     ]
    },
    {
     "name": "stdout",
     "output_type": "stream",
     "text": [
      "0.002292234 0.359366\n"
     ]
    },
    {
     "name": "stderr",
     "output_type": "stream",
     "text": [
      "  8%|▊         | 9/115 [00:22<04:25,  2.50s/it]"
     ]
    },
    {
     "name": "stdout",
     "output_type": "stream",
     "text": [
      "0.0040194793 0.5851813\n"
     ]
    },
    {
     "name": "stderr",
     "output_type": "stream",
     "text": [
      "  9%|▊         | 10/115 [00:24<04:19,  2.47s/it]"
     ]
    },
    {
     "name": "stdout",
     "output_type": "stream",
     "text": [
      "0.0017429796 0.51443255\n"
     ]
    },
    {
     "name": "stderr",
     "output_type": "stream",
     "text": [
      " 10%|▉         | 11/115 [00:26<04:14,  2.45s/it]"
     ]
    },
    {
     "name": "stdout",
     "output_type": "stream",
     "text": [
      "0.0018854551 0.55880266\n"
     ]
    },
    {
     "name": "stderr",
     "output_type": "stream",
     "text": [
      " 10%|█         | 12/115 [00:29<04:17,  2.50s/it]"
     ]
    },
    {
     "name": "stdout",
     "output_type": "stream",
     "text": [
      "0.003308377 0.5868812\n"
     ]
    },
    {
     "name": "stderr",
     "output_type": "stream",
     "text": [
      " 11%|█▏        | 13/115 [00:32<04:19,  2.54s/it]"
     ]
    },
    {
     "name": "stdout",
     "output_type": "stream",
     "text": [
      "0.0021062463 0.5445108\n"
     ]
    },
    {
     "name": "stderr",
     "output_type": "stream",
     "text": [
      " 12%|█▏        | 14/115 [00:34<04:11,  2.49s/it]"
     ]
    },
    {
     "name": "stdout",
     "output_type": "stream",
     "text": [
      "0.002387923 0.49334437\n"
     ]
    },
    {
     "name": "stderr",
     "output_type": "stream",
     "text": [
      " 13%|█▎        | 15/115 [00:37<04:14,  2.54s/it]"
     ]
    },
    {
     "name": "stdout",
     "output_type": "stream",
     "text": [
      "0.0018585102 0.42530578\n"
     ]
    },
    {
     "name": "stderr",
     "output_type": "stream",
     "text": [
      " 14%|█▍        | 16/115 [00:39<04:07,  2.50s/it]"
     ]
    },
    {
     "name": "stdout",
     "output_type": "stream",
     "text": [
      "0.005128102 0.98419815\n"
     ]
    },
    {
     "name": "stderr",
     "output_type": "stream",
     "text": [
      " 15%|█▍        | 17/115 [00:42<04:09,  2.54s/it]"
     ]
    },
    {
     "name": "stdout",
     "output_type": "stream",
     "text": [
      "0.0017139529 0.50089264\n"
     ]
    },
    {
     "name": "stderr",
     "output_type": "stream",
     "text": [
      " 16%|█▌        | 18/115 [00:44<04:02,  2.50s/it]"
     ]
    },
    {
     "name": "stdout",
     "output_type": "stream",
     "text": [
      "0.0015726418 0.4356369\n"
     ]
    },
    {
     "name": "stderr",
     "output_type": "stream",
     "text": [
      " 17%|█▋        | 19/115 [00:47<04:03,  2.54s/it]"
     ]
    },
    {
     "name": "stdout",
     "output_type": "stream",
     "text": [
      "0.0010101936 0.49051592\n"
     ]
    },
    {
     "name": "stderr",
     "output_type": "stream",
     "text": [
      " 17%|█▋        | 20/115 [00:49<03:59,  2.52s/it]"
     ]
    },
    {
     "name": "stdout",
     "output_type": "stream",
     "text": [
      "0.003154893 0.6579155\n"
     ]
    },
    {
     "name": "stderr",
     "output_type": "stream",
     "text": [
      " 18%|█▊        | 21/115 [00:52<03:55,  2.50s/it]"
     ]
    },
    {
     "name": "stdout",
     "output_type": "stream",
     "text": [
      "0.004219803 0.42673978\n"
     ]
    },
    {
     "name": "stderr",
     "output_type": "stream",
     "text": [
      " 19%|█▉        | 22/115 [00:54<03:51,  2.49s/it]"
     ]
    },
    {
     "name": "stdout",
     "output_type": "stream",
     "text": [
      "0.010989327 0.9525584\n"
     ]
    },
    {
     "name": "stderr",
     "output_type": "stream",
     "text": [
      " 20%|██        | 23/115 [00:57<03:46,  2.47s/it]"
     ]
    },
    {
     "name": "stdout",
     "output_type": "stream",
     "text": [
      "0.0006917813 0.44467342\n"
     ]
    },
    {
     "name": "stderr",
     "output_type": "stream",
     "text": [
      " 21%|██        | 24/115 [00:59<03:45,  2.48s/it]"
     ]
    },
    {
     "name": "stdout",
     "output_type": "stream",
     "text": [
      "0.0016813618 0.37137783\n"
     ]
    },
    {
     "name": "stderr",
     "output_type": "stream",
     "text": [
      " 22%|██▏       | 25/115 [01:01<03:36,  2.40s/it]"
     ]
    },
    {
     "name": "stdout",
     "output_type": "stream",
     "text": [
      "0.0020595877 0.30986592\n"
     ]
    },
    {
     "name": "stderr",
     "output_type": "stream",
     "text": [
      " 23%|██▎       | 26/115 [01:04<03:38,  2.45s/it]"
     ]
    },
    {
     "name": "stdout",
     "output_type": "stream",
     "text": [
      "0.005365829 0.6545505\n"
     ]
    },
    {
     "name": "stderr",
     "output_type": "stream",
     "text": [
      " 23%|██▎       | 27/115 [01:06<03:31,  2.41s/it]"
     ]
    },
    {
     "name": "stdout",
     "output_type": "stream",
     "text": [
      "0.002099767 0.4699351\n"
     ]
    },
    {
     "name": "stderr",
     "output_type": "stream",
     "text": [
      " 24%|██▍       | 28/115 [01:09<03:30,  2.42s/it]"
     ]
    },
    {
     "name": "stdout",
     "output_type": "stream",
     "text": [
      "0.0008539806 0.37122852\n"
     ]
    },
    {
     "name": "stderr",
     "output_type": "stream",
     "text": [
      " 25%|██▌       | 29/115 [01:11<03:32,  2.47s/it]"
     ]
    },
    {
     "name": "stdout",
     "output_type": "stream",
     "text": [
      "0.0011042771 0.6453086\n"
     ]
    },
    {
     "name": "stderr",
     "output_type": "stream",
     "text": [
      " 26%|██▌       | 30/115 [01:13<03:23,  2.40s/it]"
     ]
    },
    {
     "name": "stdout",
     "output_type": "stream",
     "text": [
      "0.004381233 1.9208574\n"
     ]
    },
    {
     "name": "stderr",
     "output_type": "stream",
     "text": [
      " 27%|██▋       | 31/115 [01:16<03:18,  2.36s/it]"
     ]
    },
    {
     "name": "stdout",
     "output_type": "stream",
     "text": [
      "0.0021015923 0.5997339\n"
     ]
    },
    {
     "name": "stderr",
     "output_type": "stream",
     "text": [
      " 28%|██▊       | 32/115 [01:18<03:19,  2.40s/it]"
     ]
    },
    {
     "name": "stdout",
     "output_type": "stream",
     "text": [
      "0.0027308483 0.5556558\n"
     ]
    },
    {
     "name": "stderr",
     "output_type": "stream",
     "text": [
      " 29%|██▊       | 33/115 [01:21<03:16,  2.39s/it]"
     ]
    },
    {
     "name": "stdout",
     "output_type": "stream",
     "text": [
      "0.0062386147 0.5083507\n"
     ]
    },
    {
     "name": "stderr",
     "output_type": "stream",
     "text": [
      " 30%|██▉       | 34/115 [01:23<03:15,  2.42s/it]"
     ]
    },
    {
     "name": "stdout",
     "output_type": "stream",
     "text": [
      "0.0043419856 0.508574\n"
     ]
    },
    {
     "name": "stderr",
     "output_type": "stream",
     "text": [
      " 30%|███       | 35/115 [01:26<03:13,  2.41s/it]"
     ]
    },
    {
     "name": "stdout",
     "output_type": "stream",
     "text": [
      "0.004075846 0.7159543\n"
     ]
    },
    {
     "name": "stderr",
     "output_type": "stream",
     "text": [
      " 31%|███▏      | 36/115 [01:28<03:22,  2.56s/it]"
     ]
    },
    {
     "name": "stdout",
     "output_type": "stream",
     "text": [
      "0.0027673848 0.55187356\n"
     ]
    },
    {
     "name": "stderr",
     "output_type": "stream",
     "text": [
      " 32%|███▏      | 37/115 [01:31<03:13,  2.48s/it]"
     ]
    },
    {
     "name": "stdout",
     "output_type": "stream",
     "text": [
      "0.0032208958 1.9595779\n"
     ]
    },
    {
     "name": "stderr",
     "output_type": "stream",
     "text": [
      " 33%|███▎      | 38/115 [01:33<03:16,  2.55s/it]"
     ]
    },
    {
     "name": "stdout",
     "output_type": "stream",
     "text": [
      "0.00812853 0.4121356\n"
     ]
    },
    {
     "name": "stderr",
     "output_type": "stream",
     "text": [
      " 34%|███▍      | 39/115 [01:36<03:16,  2.59s/it]"
     ]
    },
    {
     "name": "stdout",
     "output_type": "stream",
     "text": [
      "0.005990265 0.8292837\n"
     ]
    },
    {
     "name": "stderr",
     "output_type": "stream",
     "text": [
      " 35%|███▍      | 40/115 [01:39<03:15,  2.61s/it]"
     ]
    },
    {
     "name": "stdout",
     "output_type": "stream",
     "text": [
      "0.0010629327 0.6619504\n"
     ]
    },
    {
     "name": "stderr",
     "output_type": "stream",
     "text": [
      " 36%|███▌      | 41/115 [01:42<03:25,  2.78s/it]"
     ]
    },
    {
     "name": "stdout",
     "output_type": "stream",
     "text": [
      "0.002695098 0.42381\n"
     ]
    },
    {
     "name": "stderr",
     "output_type": "stream",
     "text": [
      " 37%|███▋      | 42/115 [01:45<03:20,  2.74s/it]"
     ]
    },
    {
     "name": "stdout",
     "output_type": "stream",
     "text": [
      "0.0050212983 0.79069877\n"
     ]
    },
    {
     "name": "stderr",
     "output_type": "stream",
     "text": [
      " 37%|███▋      | 43/115 [01:47<03:09,  2.64s/it]"
     ]
    },
    {
     "name": "stdout",
     "output_type": "stream",
     "text": [
      "0.0036683332 0.8000154\n"
     ]
    },
    {
     "name": "stderr",
     "output_type": "stream",
     "text": [
      " 38%|███▊      | 44/115 [01:50<03:09,  2.66s/it]"
     ]
    },
    {
     "name": "stdout",
     "output_type": "stream",
     "text": [
      "0.0028721245 0.5459583\n"
     ]
    },
    {
     "name": "stderr",
     "output_type": "stream",
     "text": [
      " 39%|███▉      | 45/115 [01:53<03:14,  2.78s/it]"
     ]
    },
    {
     "name": "stdout",
     "output_type": "stream",
     "text": [
      "0.001934957 0.43381834\n"
     ]
    },
    {
     "name": "stderr",
     "output_type": "stream",
     "text": [
      " 40%|████      | 46/115 [01:56<03:11,  2.78s/it]"
     ]
    },
    {
     "name": "stdout",
     "output_type": "stream",
     "text": [
      "0.0013450618 0.47949722\n"
     ]
    },
    {
     "name": "stderr",
     "output_type": "stream",
     "text": [
      " 41%|████      | 47/115 [01:58<03:10,  2.80s/it]"
     ]
    },
    {
     "name": "stdout",
     "output_type": "stream",
     "text": [
      "0.0036504187 0.8265922\n"
     ]
    },
    {
     "name": "stderr",
     "output_type": "stream",
     "text": [
      " 42%|████▏     | 48/115 [02:01<03:04,  2.75s/it]"
     ]
    },
    {
     "name": "stdout",
     "output_type": "stream",
     "text": [
      "0.003195275 0.65417117\n"
     ]
    },
    {
     "name": "stderr",
     "output_type": "stream",
     "text": [
      " 43%|████▎     | 49/115 [02:04<03:03,  2.78s/it]"
     ]
    },
    {
     "name": "stdout",
     "output_type": "stream",
     "text": [
      "0.00159118 0.2936763\n"
     ]
    },
    {
     "name": "stderr",
     "output_type": "stream",
     "text": [
      " 43%|████▎     | 50/115 [02:07<03:02,  2.80s/it]"
     ]
    },
    {
     "name": "stdout",
     "output_type": "stream",
     "text": [
      "0.0009724811 0.5130319\n"
     ]
    },
    {
     "name": "stderr",
     "output_type": "stream",
     "text": [
      " 44%|████▍     | 51/115 [02:10<02:59,  2.81s/it]"
     ]
    },
    {
     "name": "stdout",
     "output_type": "stream",
     "text": [
      "0.0054432014 0.68263406\n"
     ]
    },
    {
     "name": "stderr",
     "output_type": "stream",
     "text": [
      " 45%|████▌     | 52/115 [02:12<02:53,  2.76s/it]"
     ]
    },
    {
     "name": "stdout",
     "output_type": "stream",
     "text": [
      "0.0030407154 0.50680166\n"
     ]
    },
    {
     "name": "stderr",
     "output_type": "stream",
     "text": [
      " 46%|████▌     | 53/115 [02:15<02:49,  2.73s/it]"
     ]
    },
    {
     "name": "stdout",
     "output_type": "stream",
     "text": [
      "0.0015324608 1.5691048\n"
     ]
    },
    {
     "name": "stderr",
     "output_type": "stream",
     "text": [
      " 47%|████▋     | 54/115 [02:17<02:44,  2.69s/it]"
     ]
    },
    {
     "name": "stdout",
     "output_type": "stream",
     "text": [
      "0.0038550117 0.35094973\n"
     ]
    },
    {
     "name": "stderr",
     "output_type": "stream",
     "text": [
      " 48%|████▊     | 55/115 [02:20<02:45,  2.75s/it]"
     ]
    },
    {
     "name": "stdout",
     "output_type": "stream",
     "text": [
      "0.0042617605 0.77101886\n"
     ]
    },
    {
     "name": "stderr",
     "output_type": "stream",
     "text": [
      " 49%|████▊     | 56/115 [02:23<02:44,  2.79s/it]"
     ]
    },
    {
     "name": "stdout",
     "output_type": "stream",
     "text": [
      "0.0010126735 0.3538631\n"
     ]
    },
    {
     "name": "stderr",
     "output_type": "stream",
     "text": [
      " 50%|████▉     | 57/115 [02:26<02:41,  2.78s/it]"
     ]
    },
    {
     "name": "stdout",
     "output_type": "stream",
     "text": [
      "0.0042747334 0.6062476\n"
     ]
    },
    {
     "name": "stderr",
     "output_type": "stream",
     "text": [
      " 50%|█████     | 58/115 [02:29<02:34,  2.71s/it]"
     ]
    },
    {
     "name": "stdout",
     "output_type": "stream",
     "text": [
      "0.0030758863 0.39914063\n"
     ]
    },
    {
     "name": "stderr",
     "output_type": "stream",
     "text": [
      " 51%|█████▏    | 59/115 [02:31<02:34,  2.75s/it]"
     ]
    },
    {
     "name": "stdout",
     "output_type": "stream",
     "text": [
      "0.007503052 0.757351\n"
     ]
    },
    {
     "name": "stderr",
     "output_type": "stream",
     "text": [
      " 52%|█████▏    | 60/115 [02:34<02:29,  2.73s/it]"
     ]
    },
    {
     "name": "stdout",
     "output_type": "stream",
     "text": [
      "0.0044560838 0.5676404\n"
     ]
    },
    {
     "name": "stderr",
     "output_type": "stream",
     "text": [
      " 53%|█████▎    | 61/115 [02:37<02:22,  2.64s/it]"
     ]
    },
    {
     "name": "stdout",
     "output_type": "stream",
     "text": [
      "0.0011359906 0.33135736\n"
     ]
    },
    {
     "name": "stderr",
     "output_type": "stream",
     "text": [
      " 54%|█████▍    | 62/115 [02:39<02:20,  2.65s/it]"
     ]
    },
    {
     "name": "stdout",
     "output_type": "stream",
     "text": [
      "0.0027966395 0.7394561\n"
     ]
    },
    {
     "name": "stderr",
     "output_type": "stream",
     "text": [
      " 55%|█████▍    | 63/115 [02:42<02:17,  2.64s/it]"
     ]
    },
    {
     "name": "stdout",
     "output_type": "stream",
     "text": [
      "0.001556938 0.48295745\n"
     ]
    },
    {
     "name": "stderr",
     "output_type": "stream",
     "text": [
      " 56%|█████▌    | 64/115 [02:44<02:15,  2.66s/it]"
     ]
    },
    {
     "name": "stdout",
     "output_type": "stream",
     "text": [
      "0.0041341996 0.77712303\n"
     ]
    },
    {
     "name": "stderr",
     "output_type": "stream",
     "text": [
      " 57%|█████▋    | 65/115 [02:47<02:09,  2.60s/it]"
     ]
    },
    {
     "name": "stdout",
     "output_type": "stream",
     "text": [
      "0.0012963347 0.6682772\n"
     ]
    },
    {
     "name": "stderr",
     "output_type": "stream",
     "text": [
      " 57%|█████▋    | 66/115 [02:50<02:09,  2.64s/it]"
     ]
    },
    {
     "name": "stdout",
     "output_type": "stream",
     "text": [
      "0.0024146454 0.47885117\n"
     ]
    },
    {
     "name": "stderr",
     "output_type": "stream",
     "text": [
      " 58%|█████▊    | 67/115 [02:52<02:05,  2.61s/it]"
     ]
    },
    {
     "name": "stdout",
     "output_type": "stream",
     "text": [
      "0.005753483 0.5159219\n"
     ]
    },
    {
     "name": "stderr",
     "output_type": "stream",
     "text": [
      " 59%|█████▉    | 68/115 [02:55<01:59,  2.53s/it]"
     ]
    },
    {
     "name": "stdout",
     "output_type": "stream",
     "text": [
      "0.00437346 0.8720823\n"
     ]
    },
    {
     "name": "stderr",
     "output_type": "stream",
     "text": [
      " 60%|██████    | 69/115 [02:57<01:59,  2.59s/it]"
     ]
    },
    {
     "name": "stdout",
     "output_type": "stream",
     "text": [
      "0.001795163 0.5049006\n"
     ]
    },
    {
     "name": "stderr",
     "output_type": "stream",
     "text": [
      " 61%|██████    | 70/115 [03:00<01:57,  2.62s/it]"
     ]
    },
    {
     "name": "stdout",
     "output_type": "stream",
     "text": [
      "0.003795196 0.7338241\n"
     ]
    },
    {
     "name": "stderr",
     "output_type": "stream",
     "text": [
      " 62%|██████▏   | 71/115 [03:03<01:55,  2.63s/it]"
     ]
    },
    {
     "name": "stdout",
     "output_type": "stream",
     "text": [
      "0.0041347905 0.5168542\n"
     ]
    },
    {
     "name": "stderr",
     "output_type": "stream",
     "text": [
      " 63%|██████▎   | 72/115 [03:05<01:54,  2.67s/it]"
     ]
    },
    {
     "name": "stdout",
     "output_type": "stream",
     "text": [
      "0.0018986573 0.44283623\n"
     ]
    },
    {
     "name": "stderr",
     "output_type": "stream",
     "text": [
      " 63%|██████▎   | 73/115 [03:08<01:52,  2.69s/it]"
     ]
    },
    {
     "name": "stdout",
     "output_type": "stream",
     "text": [
      "0.0049639456 0.5700911\n"
     ]
    },
    {
     "name": "stderr",
     "output_type": "stream",
     "text": [
      " 64%|██████▍   | 74/115 [03:11<01:46,  2.60s/it]"
     ]
    },
    {
     "name": "stdout",
     "output_type": "stream",
     "text": [
      "0.0029011082 0.61970955\n"
     ]
    },
    {
     "name": "stderr",
     "output_type": "stream",
     "text": [
      " 65%|██████▌   | 75/115 [03:13<01:42,  2.57s/it]"
     ]
    },
    {
     "name": "stdout",
     "output_type": "stream",
     "text": [
      "0.017181102 0.6934221\n"
     ]
    },
    {
     "name": "stderr",
     "output_type": "stream",
     "text": [
      " 66%|██████▌   | 76/115 [03:16<01:43,  2.64s/it]"
     ]
    },
    {
     "name": "stdout",
     "output_type": "stream",
     "text": [
      "0.0036172227 0.4943565\n"
     ]
    },
    {
     "name": "stderr",
     "output_type": "stream",
     "text": [
      " 67%|██████▋   | 77/115 [03:19<01:43,  2.71s/it]"
     ]
    },
    {
     "name": "stdout",
     "output_type": "stream",
     "text": [
      "0.0033340794 0.7503384\n"
     ]
    },
    {
     "name": "stderr",
     "output_type": "stream",
     "text": [
      " 68%|██████▊   | 78/115 [03:21<01:37,  2.64s/it]"
     ]
    },
    {
     "name": "stdout",
     "output_type": "stream",
     "text": [
      "0.0037040985 0.61234605\n"
     ]
    },
    {
     "name": "stderr",
     "output_type": "stream",
     "text": [
      " 69%|██████▊   | 79/115 [03:24<01:38,  2.73s/it]"
     ]
    },
    {
     "name": "stdout",
     "output_type": "stream",
     "text": [
      "0.006378181 0.8171503\n"
     ]
    },
    {
     "name": "stderr",
     "output_type": "stream",
     "text": [
      " 70%|██████▉   | 80/115 [03:27<01:32,  2.65s/it]"
     ]
    },
    {
     "name": "stdout",
     "output_type": "stream",
     "text": [
      "0.0038773604 0.5397604\n"
     ]
    },
    {
     "name": "stderr",
     "output_type": "stream",
     "text": [
      " 70%|███████   | 81/115 [03:29<01:31,  2.70s/it]"
     ]
    },
    {
     "name": "stdout",
     "output_type": "stream",
     "text": [
      "0.0009449647 0.5043587\n"
     ]
    },
    {
     "name": "stderr",
     "output_type": "stream",
     "text": [
      " 71%|███████▏  | 82/115 [03:32<01:29,  2.70s/it]"
     ]
    },
    {
     "name": "stdout",
     "output_type": "stream",
     "text": [
      "0.0019390478 1.022336\n"
     ]
    },
    {
     "name": "stderr",
     "output_type": "stream",
     "text": [
      " 72%|███████▏  | 83/115 [03:35<01:24,  2.65s/it]"
     ]
    },
    {
     "name": "stdout",
     "output_type": "stream",
     "text": [
      "0.002148027 0.69498444\n"
     ]
    },
    {
     "name": "stderr",
     "output_type": "stream",
     "text": [
      " 73%|███████▎  | 84/115 [03:37<01:21,  2.64s/it]"
     ]
    },
    {
     "name": "stdout",
     "output_type": "stream",
     "text": [
      "0.0036452073 0.49682432\n"
     ]
    },
    {
     "name": "stderr",
     "output_type": "stream",
     "text": [
      " 74%|███████▍  | 85/115 [03:40<01:19,  2.65s/it]"
     ]
    },
    {
     "name": "stdout",
     "output_type": "stream",
     "text": [
      "0.0038697764 0.3878917\n"
     ]
    },
    {
     "name": "stderr",
     "output_type": "stream",
     "text": [
      " 75%|███████▍  | 86/115 [03:42<01:15,  2.61s/it]"
     ]
    },
    {
     "name": "stdout",
     "output_type": "stream",
     "text": [
      "0.0027556843 0.7550331\n"
     ]
    },
    {
     "name": "stderr",
     "output_type": "stream",
     "text": [
      " 76%|███████▌  | 87/115 [03:45<01:12,  2.58s/it]"
     ]
    },
    {
     "name": "stdout",
     "output_type": "stream",
     "text": [
      "0.0041560335 0.63535076\n"
     ]
    },
    {
     "name": "stderr",
     "output_type": "stream",
     "text": [
      " 77%|███████▋  | 88/115 [03:48<01:09,  2.58s/it]"
     ]
    },
    {
     "name": "stdout",
     "output_type": "stream",
     "text": [
      "0.0014804492 0.35403356\n"
     ]
    },
    {
     "name": "stderr",
     "output_type": "stream",
     "text": [
      " 77%|███████▋  | 89/115 [03:50<01:08,  2.65s/it]"
     ]
    },
    {
     "name": "stdout",
     "output_type": "stream",
     "text": [
      "0.00049090444 0.7047027\n"
     ]
    },
    {
     "name": "stderr",
     "output_type": "stream",
     "text": [
      " 78%|███████▊  | 90/115 [03:53<01:06,  2.65s/it]"
     ]
    },
    {
     "name": "stdout",
     "output_type": "stream",
     "text": [
      "0.0020414004 0.7018053\n"
     ]
    },
    {
     "name": "stderr",
     "output_type": "stream",
     "text": [
      " 79%|███████▉  | 91/115 [03:56<01:03,  2.63s/it]"
     ]
    },
    {
     "name": "stdout",
     "output_type": "stream",
     "text": [
      "0.00249454 0.50761986\n"
     ]
    },
    {
     "name": "stderr",
     "output_type": "stream",
     "text": [
      " 80%|████████  | 92/115 [03:58<01:00,  2.61s/it]"
     ]
    },
    {
     "name": "stdout",
     "output_type": "stream",
     "text": [
      "0.0037240754 0.27202183\n"
     ]
    },
    {
     "name": "stderr",
     "output_type": "stream",
     "text": [
      " 81%|████████  | 93/115 [04:02<01:02,  2.84s/it]"
     ]
    },
    {
     "name": "stdout",
     "output_type": "stream",
     "text": [
      "0.0022915248 0.8942374\n"
     ]
    },
    {
     "name": "stderr",
     "output_type": "stream",
     "text": [
      " 82%|████████▏ | 94/115 [04:04<00:59,  2.82s/it]"
     ]
    },
    {
     "name": "stdout",
     "output_type": "stream",
     "text": [
      "0.0026345672 0.52818304\n"
     ]
    },
    {
     "name": "stderr",
     "output_type": "stream",
     "text": [
      " 83%|████████▎ | 95/115 [04:07<00:55,  2.76s/it]"
     ]
    },
    {
     "name": "stdout",
     "output_type": "stream",
     "text": [
      "0.001456343 0.40384412\n"
     ]
    },
    {
     "name": "stderr",
     "output_type": "stream",
     "text": [
      " 83%|████████▎ | 96/115 [04:10<00:52,  2.74s/it]"
     ]
    },
    {
     "name": "stdout",
     "output_type": "stream",
     "text": [
      "0.0041688085 0.442046\n"
     ]
    },
    {
     "name": "stderr",
     "output_type": "stream",
     "text": [
      " 84%|████████▍ | 97/115 [04:12<00:48,  2.71s/it]"
     ]
    },
    {
     "name": "stdout",
     "output_type": "stream",
     "text": [
      "0.0015490045 0.48691344\n"
     ]
    },
    {
     "name": "stderr",
     "output_type": "stream",
     "text": [
      " 85%|████████▌ | 98/115 [04:15<00:46,  2.72s/it]"
     ]
    },
    {
     "name": "stdout",
     "output_type": "stream",
     "text": [
      "0.005801139 0.4512783\n"
     ]
    },
    {
     "name": "stderr",
     "output_type": "stream",
     "text": [
      " 86%|████████▌ | 99/115 [04:18<00:43,  2.69s/it]"
     ]
    },
    {
     "name": "stdout",
     "output_type": "stream",
     "text": [
      "0.000629042 0.52035606\n"
     ]
    },
    {
     "name": "stderr",
     "output_type": "stream",
     "text": [
      " 87%|████████▋ | 100/115 [04:20<00:40,  2.68s/it]"
     ]
    },
    {
     "name": "stdout",
     "output_type": "stream",
     "text": [
      "0.0008382658 0.39249602\n"
     ]
    },
    {
     "name": "stderr",
     "output_type": "stream",
     "text": [
      " 88%|████████▊ | 101/115 [04:23<00:39,  2.81s/it]"
     ]
    },
    {
     "name": "stdout",
     "output_type": "stream",
     "text": [
      "0.0053609344 0.94996107\n"
     ]
    },
    {
     "name": "stderr",
     "output_type": "stream",
     "text": [
      " 89%|████████▊ | 102/115 [04:26<00:36,  2.79s/it]"
     ]
    },
    {
     "name": "stdout",
     "output_type": "stream",
     "text": [
      "0.0029131111 0.50326324\n"
     ]
    },
    {
     "name": "stderr",
     "output_type": "stream",
     "text": [
      " 90%|████████▉ | 103/115 [04:29<00:32,  2.68s/it]"
     ]
    },
    {
     "name": "stdout",
     "output_type": "stream",
     "text": [
      "0.0015382492 0.57363963\n"
     ]
    },
    {
     "name": "stderr",
     "output_type": "stream",
     "text": [
      " 90%|█████████ | 104/115 [04:31<00:29,  2.71s/it]"
     ]
    },
    {
     "name": "stdout",
     "output_type": "stream",
     "text": [
      "0.0037398185 0.48106685\n"
     ]
    },
    {
     "name": "stderr",
     "output_type": "stream",
     "text": [
      " 91%|█████████▏| 105/115 [04:34<00:27,  2.73s/it]"
     ]
    },
    {
     "name": "stdout",
     "output_type": "stream",
     "text": [
      "0.0011264351 1.9246087\n"
     ]
    },
    {
     "name": "stderr",
     "output_type": "stream",
     "text": [
      " 92%|█████████▏| 106/115 [04:37<00:25,  2.79s/it]"
     ]
    },
    {
     "name": "stdout",
     "output_type": "stream",
     "text": [
      "0.003545526 0.7134333\n"
     ]
    },
    {
     "name": "stderr",
     "output_type": "stream",
     "text": [
      " 93%|█████████▎| 107/115 [04:40<00:21,  2.73s/it]"
     ]
    },
    {
     "name": "stdout",
     "output_type": "stream",
     "text": [
      "0.005213784 0.44545427\n"
     ]
    },
    {
     "name": "stderr",
     "output_type": "stream",
     "text": [
      " 94%|█████████▍| 108/115 [04:42<00:19,  2.75s/it]"
     ]
    },
    {
     "name": "stdout",
     "output_type": "stream",
     "text": [
      "0.0022064059 0.49421307\n"
     ]
    },
    {
     "name": "stderr",
     "output_type": "stream",
     "text": [
      " 95%|█████████▍| 109/115 [04:45<00:16,  2.80s/it]"
     ]
    },
    {
     "name": "stdout",
     "output_type": "stream",
     "text": [
      "0.0046034954 0.7726396\n"
     ]
    },
    {
     "name": "stderr",
     "output_type": "stream",
     "text": [
      " 96%|█████████▌| 110/115 [04:48<00:13,  2.78s/it]"
     ]
    },
    {
     "name": "stdout",
     "output_type": "stream",
     "text": [
      "0.0074993907 0.44963706\n"
     ]
    },
    {
     "name": "stderr",
     "output_type": "stream",
     "text": [
      " 97%|█████████▋| 111/115 [04:51<00:11,  2.93s/it]"
     ]
    },
    {
     "name": "stdout",
     "output_type": "stream",
     "text": [
      "0.0023774076 0.89088255\n"
     ]
    },
    {
     "name": "stderr",
     "output_type": "stream",
     "text": [
      " 97%|█████████▋| 112/115 [04:54<00:08,  2.89s/it]"
     ]
    },
    {
     "name": "stdout",
     "output_type": "stream",
     "text": [
      "0.015901715 0.99728155\n"
     ]
    },
    {
     "name": "stderr",
     "output_type": "stream",
     "text": [
      " 98%|█████████▊| 113/115 [04:57<00:05,  2.79s/it]"
     ]
    },
    {
     "name": "stdout",
     "output_type": "stream",
     "text": [
      "0.002627177 0.28940052\n"
     ]
    },
    {
     "name": "stderr",
     "output_type": "stream",
     "text": [
      " 99%|█████████▉| 114/115 [05:00<00:02,  2.89s/it]"
     ]
    },
    {
     "name": "stdout",
     "output_type": "stream",
     "text": [
      "0.0037446686 1.4044725\n"
     ]
    },
    {
     "name": "stderr",
     "output_type": "stream",
     "text": [
      "100%|██████████| 115/115 [05:03<00:00,  2.64s/it]\n"
     ]
    }
   ],
   "source": [
    "import os\n",
    "import sys\n",
    "\n",
    "import numpy as np\n",
    "\n",
    "import torch\n",
    "import torchvision.transforms.functional as F\n",
    "from torchvision.utils import make_grid\n",
    "\n",
    "from matplotlib import pyplot as plt\n",
    "from matplotlib.colors import to_rgb\n",
    "\n",
    "from tqdm import tqdm\n",
    "from glob import glob\n",
    "\n",
    "import plotly.offline as py\n",
    "import plotly.graph_objects as go\n",
    "\n",
    "\n",
    "PROJ_ROOT = '/home/lry/code/image2pattern/thirdparty/automodeling'\n",
    "sys.path.insert(0, PROJ_ROOT)\n",
    "\n",
    "from datasets import SXDImageDataset\n",
    "from network import SXDUNet2DModel\n",
    "\n",
    "_CMAP = {\n",
    "    \"帽\": {\"alias\": \"hat\", \"color\": \"#F7815D\"},\n",
    "    \"领\": {\"alias\": \"collar\", \"color\": \"#F9D26D\"},\n",
    "    \"肩\": {\"alias\": \"shoulder\", \"color\": \"#F23434\"},\n",
    "    \"袖片\": {\"alias\": \"sleeve\", \"color\": \"#C4DBBE\"},\n",
    "    \"袖口\": {\"alias\": \"cuff\", \"color\": \"#F0EDA8\"},\n",
    "    \"衣身前中\": {\"alias\": \"body front\", \"color\": \"#8CA740\"},\n",
    "    \"衣身后中\": {\"alias\": \"body back\", \"color\": \"#4087A7\"},\n",
    "    \"衣身侧\": {\"alias\": \"body side\", \"color\": \"#DF7D7E\"},\n",
    "    \n",
    "    \"底摆\": {\"alias\": \"hem\", \"color\": \"#DACBBD\"},\n",
    "    \"腰头\": {\"alias\": \"belt\", \"color\": \"#DABDD1\"},\n",
    "    \"裙前中\": {\"alias\": \"skirt front\", \"color\": \"#46B974\"},\n",
    "    \"裙后中\": {\"alias\": \"skirt back\", \"color\": \"#6B68F5\"},\n",
    "    \"裙侧\": {\"alias\": \"skirt side\", \"color\": \"#D37F50\"},\n",
    "\n",
    "    \"橡筋\": {\"alias\":\"ruffles\", \"color\": \"#A8D4D2\"},\n",
    "    \"木耳边\": {\"alias\":\"ruffles\", \"color\": \"#A8D4D2\"},\n",
    "    \"袖笼拼条\": {\"alias\":\"ruffles\", \"color\": \"#A8D4D2\"},\n",
    "    \"荷叶边\": {\"alias\":\"ruffles\", \"color\": \"#A8D4D2\"},\n",
    "    \"绑带\": {\"alias\":\"ruffles\", \"color\": \"#A8D4D2\"}\n",
    "}\n",
    "\n",
    "_PANEL_CLS = [\n",
    "    '帽','领','肩','袖片','袖口','衣身前中','衣身后中','衣身侧','底摆','腰头','裙前中','裙后中','裙侧','橡筋','木耳边','袖笼拼条','荷叶边','绑带']\n",
    "\n",
    "_PANEL_COLORS = np.array(\n",
    "    [(0., 0., 0.)] + [to_rgb(_CMAP[_PANEL_CLS[idx]]['color']) for idx in range(len(_PANEL_CLS))]\n",
    ")\n",
    "\n",
    "_AVATAR_BBOX = np.array([\n",
    "    [-449.00006104,  191.10876465, -178.34872437],      # min\n",
    "    [ 447.45980835, 1831.29016113,  174.13575745]       # max\n",
    "])\n",
    "\n",
    "_OFFSET = _AVATAR_BBOX[0] + (_AVATAR_BBOX[1] - _AVATAR_BBOX[0]) / 2\n",
    "_SCALE = _AVATAR_BBOX[1] - _AVATAR_BBOX[0]\n",
    "\n",
    "plt.rcParams[\"savefig.bbox\"] = 'tight'\n",
    "def show(imgs):\n",
    "    if not isinstance(imgs, list):\n",
    "        imgs = [imgs]\n",
    "    fix, axs = plt.subplots(ncols=len(imgs), squeeze=False)\n",
    "    for i, img in enumerate(imgs):\n",
    "        img = img.detach()\n",
    "        img = F.to_pil_image(img)\n",
    "        axs[0, i].imshow(np.asarray(img))\n",
    "        axs[0, i].set(xticklabels=[], yticklabels=[], xticks=[], yticks=[])\n",
    "\n",
    "\n",
    "expr_name = 'cf_local_256_20240808'\n",
    "ckpt_step = 14000\n",
    "\n",
    "use_cf, uv_type, reso, _ = expr_name.split('_')\n",
    "\n",
    "ckpt_dir = os.path.join(PROJ_ROOT, 'ckpts', expr_name, 'checkpoint-%d'%(ckpt_step))\n",
    "data_root = \"/data/lry/StyleXD/imgs\"\n",
    "        \n",
    "dataset = SXDImageDataset(data_root, reso=int(reso), split='test', uv_type=uv_type)\n",
    "model = SXDUNet2DModel(\n",
    "        sample_size=int(reso),\n",
    "        in_channels=16, \n",
    "        num_class_embeds=dataset.num_classes if use_cf == 'cf' else -1, \n",
    "        out_channels=3, \n",
    "        layers_per_block=1,\n",
    "        block_out_channels=(32, 64, 128, 128),\n",
    "        down_block_types=(\n",
    "            \"DownBlock2D\",\n",
    "            \"DownBlock2D\",\n",
    "            \"DownBlock2D\",\n",
    "            \"DownBlock2D\",\n",
    "        ),\n",
    "        up_block_types=(\n",
    "            \"UpBlock2D\",\n",
    "            \"UpBlock2D\",\n",
    "            \"UpBlock2D\",\n",
    "            \"UpBlock2D\",\n",
    "        )\n",
    "    )\n",
    "\n",
    "load_model = SXDUNet2DModel.from_pretrained(ckpt_dir, subfolder=\"unet\")\n",
    "model.register_to_config(**load_model.config)\n",
    "model.load_state_dict(load_model.state_dict())\n",
    "model.to('cuda')\n",
    "\n",
    "output_root = '/home/lry/code/image2pattern/thirdparty/automodeling/out/cf_local_256_20240808'\n",
    "vis_output_root = os.path.join(output_root, 'vis')\n",
    "os.makedirs(vis_output_root, exist_ok=True)\n",
    "\n",
    "for data_fp in tqdm(sorted(glob(os.path.join(output_root, '*.npz')))):\n",
    "\n",
    "    # geo_arr, seg_arr, uv_arr = dataset[0]        \n",
    "    # seg_mask = (seg_arr > 0)\n",
    "    # # print(geo_arr.shape, seg_arr.shape, uv_arr.shape, geo_arr.min(), geo_arr.max())\n",
    "    # # show(make_grid((geo_arr.detach() + 1.0) * 0.5)) \n",
    "\n",
    "    # with torch.no_grad():\n",
    "    #     pred = model(uv_arr[None].to('cuda'), seg_arr[None].to('cuda')).sample[0]\n",
    "    # # print(pred.shape, pred.max(), pred.min())\n",
    "    # # show(make_grid((pred.detach() + 1.0) * 0.5))\n",
    "\n",
    "    data = np.load(data_fp)\n",
    "    geo_arr = data['pred']\n",
    "    mask_arr = data['seg'] > 0\n",
    "    # show(make_grid((torch.from_numpy((geo_arr + 1.0) * 0.5 * mask_arr[None]))))\n",
    "\n",
    "    traces = []\n",
    "    mask_arr = data['seg'] > 0\n",
    "    error_map = np.linalg.norm(data['geo'] - data['pred'], axis=0)\n",
    "\n",
    "    for key in ['geo', 'pred']:\n",
    "        geo_arr = data[key]\n",
    "        valid_pts = geo_arr.reshape(3, -1)[:, mask_arr.reshape(-1)]\n",
    "        valid_pts = valid_pts * (_SCALE[:, None] * 0.5) + _OFFSET[:, None]\n",
    "        pts_cls = seg_arr.reshape(-1)[mask_arr.reshape(-1)]\n",
    "        \n",
    "        if key == 'geo':\n",
    "            traces.append(\n",
    "                go.Scatter3d(\n",
    "                    x=valid_pts[0, :],\n",
    "                    y=valid_pts[1, :],\n",
    "                    z=valid_pts[2, :],\n",
    "                    mode='markers',\n",
    "                    marker=dict(\n",
    "                        color='#D3D3D3',  # Light grey for ground truth\n",
    "                        size=1\n",
    "                    )\n",
    "                )\n",
    "            )\n",
    "        else:\n",
    "            error_values = error_map.reshape(-1)[mask_arr.reshape(-1)]  # Apply the error map to valid points\n",
    "            print(error_values.min(), error_values.max())\n",
    "            traces.append(\n",
    "                go.Scatter3d(\n",
    "                    x=valid_pts[0, :],\n",
    "                    y=valid_pts[1, :],\n",
    "                    z=valid_pts[2, :],\n",
    "                    mode='markers',\n",
    "                    marker=dict(\n",
    "                        color=error_values,  # Color by error values\n",
    "                        colorscale='Rainbow',  # Choose a colorscale, e.g., Viridis\n",
    "                        size=2,\n",
    "                        colorbar=dict(title=\"Reconstruction Error\"),\n",
    "                        showscale=False,\n",
    "                        cmin=0.0,  # Set the minimum value of the color scale\n",
    "                        cmax=1.0 \n",
    "                    )\n",
    "                )\n",
    "            )\n",
    "\n",
    "    fig = go.Figure(data=traces,\n",
    "        layout=go.Layout(\n",
    "            width=1024,\n",
    "            height=1024,\n",
    "            margin=dict(l=1, r=1, b=1, t=1),\n",
    "            scene=dict(aspectmode='data',xaxis = dict(visible=False),yaxis = dict(visible=False),zaxis = dict(visible=False)),\n",
    "            showlegend=False,\n",
    "            paper_bgcolor='rgba(0,0,0,0)',\n",
    "            plot_bgcolor='rgba(0,0,0,0)'\n",
    "        )\n",
    "    )\n",
    "\n",
    "    camera = dict(\n",
    "        up=dict(x=0, y=1, z=0),\n",
    "        center=dict(x=0, y=0, z=0),\n",
    "        eye=dict(x=0, y=0, z=2.0)\n",
    "    )\n",
    "\n",
    "    fig.update_layout(scene_camera=camera, title=\"Reconstructed point cloud.\")\n",
    "    # fig.show()\n",
    "    # py.iplot(fig, filename='3d-scatter')\n",
    "    fig.write_image(os.path.join(vis_output_root, os.path.basename(data_fp).replace('npz', 'png')))"
   ]
  },
  {
   "cell_type": "code",
   "execution_count": null,
   "metadata": {},
   "outputs": [],
   "source": []
  }
 ],
 "metadata": {
  "kernelspec": {
   "display_name": "Python 3",
   "language": "python",
   "name": "python3"
  },
  "language_info": {
   "codemirror_mode": {
    "name": "ipython",
    "version": 3
   },
   "file_extension": ".py",
   "mimetype": "text/x-python",
   "name": "python",
   "nbconvert_exporter": "python",
   "pygments_lexer": "ipython3",
   "version": "3.12.4"
  }
 },
 "nbformat": 4,
 "nbformat_minor": 2
}
